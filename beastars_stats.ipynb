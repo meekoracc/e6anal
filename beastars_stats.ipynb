{
 "cells": [
  {
   "cell_type": "code",
   "execution_count": 1,
   "metadata": {},
   "outputs": [],
   "source": [
    "from sshtunnel import SSHTunnelForwarder\n",
    "import getpass\n",
    "username = input()\n",
    "passwd = getpass.getpass()\n",
    "server = SSHTunnelForwarder(\n",
    "  'ipfs.meekoracc.com',\n",
    "  ssh_username=username,\n",
    "  ssh_password=passwd,\n",
    "  remote_bind_address=('127.0.0.1', 27017)\n",
    ")"
   ]
  },
  {
   "cell_type": "code",
   "execution_count": 2,
   "metadata": {},
   "outputs": [],
   "source": [
    "server.start()"
   ]
  },
  {
   "cell_type": "code",
   "execution_count": 3,
   "metadata": {},
   "outputs": [
    {
     "name": "stdout",
     "output_type": "stream",
     "text": [
      "38437\n"
     ]
    }
   ],
   "source": [
    "print(server.local_bind_port)"
   ]
  },
  {
   "cell_type": "code",
   "execution_count": 4,
   "metadata": {},
   "outputs": [],
   "source": [
    "import pymongo\n",
    "conn_str = \"mongodb://localhost:38437/\"\n",
    "client =  pymongo.MongoClient(conn_str, serverSelectionTimeoutMS=5000)"
   ]
  },
  {
   "cell_type": "code",
   "execution_count": 5,
   "metadata": {},
   "outputs": [
    {
     "name": "stdout",
     "output_type": "stream",
     "text": [
      "{'version': '5.0.3', 'gitVersion': '657fea5a61a74d7a79df7aff8e4bcf0bc742b748', 'modules': [], 'allocator': 'tcmalloc', 'javascriptEngine': 'mozjs', 'sysInfo': 'deprecated', 'versionArray': [5, 0, 3, 0], 'openssl': {'running': 'OpenSSL 1.1.1f  31 Mar 2020', 'compiled': 'OpenSSL 1.1.1f  31 Mar 2020'}, 'buildEnvironment': {'distmod': 'ubuntu2004', 'distarch': 'x86_64', 'cc': '/opt/mongodbtoolchain/v3/bin/gcc: gcc (GCC) 8.5.0', 'ccflags': '-Werror -include mongo/platform/basic.h -fasynchronous-unwind-tables -ggdb -Wall -Wsign-compare -Wno-unknown-pragmas -Winvalid-pch -fno-omit-frame-pointer -fno-strict-aliasing -O2 -march=sandybridge -mtune=generic -mprefer-vector-width=128 -Wno-unused-local-typedefs -Wno-unused-function -Wno-deprecated-declarations -Wno-unused-const-variable -Wno-unused-but-set-variable -Wno-missing-braces -fstack-protector-strong -Wa,--nocompress-debug-sections -fno-builtin-memcmp', 'cxx': '/opt/mongodbtoolchain/v3/bin/g++: g++ (GCC) 8.5.0', 'cxxflags': '-Woverloaded-virtual -Wno-maybe-uninitialized -fsized-deallocation -std=c++17', 'linkflags': '-Wl,--fatal-warnings -pthread -Wl,-z,now -fuse-ld=gold -fstack-protector-strong -Wl,--no-threads -Wl,--build-id -Wl,--hash-style=gnu -Wl,-z,noexecstack -Wl,--warn-execstack -Wl,-z,relro -Wl,--compress-debug-sections=none -Wl,-z,origin -Wl,--enable-new-dtags', 'target_arch': 'x86_64', 'target_os': 'linux', 'cppdefines': 'SAFEINT_USE_INTRINSICS 0 PCRE_STATIC NDEBUG _XOPEN_SOURCE 700 _GNU_SOURCE _FORTIFY_SOURCE 2 BOOST_THREAD_VERSION 5 BOOST_THREAD_USES_DATETIME BOOST_SYSTEM_NO_DEPRECATED BOOST_MATH_NO_LONG_DOUBLE_MATH_FUNCTIONS BOOST_ENABLE_ASSERT_DEBUG_HANDLER BOOST_LOG_NO_SHORTHAND_NAMES BOOST_LOG_USE_NATIVE_SYSLOG BOOST_LOG_WITHOUT_THREAD_ATTR ABSL_FORCE_ALIGNED_ACCESS'}, 'bits': 64, 'debug': False, 'maxBsonObjectSize': 16777216, 'storageEngines': ['devnull', 'ephemeralForTest', 'wiredTiger'], 'ok': 1.0}\n"
     ]
    }
   ],
   "source": [
    "try:\n",
    "  print(client.server_info())\n",
    "except Exception:\n",
    "  print(\"Unable to connect.\")"
   ]
  },
  {
   "cell_type": "code",
   "execution_count": 6,
   "metadata": {},
   "outputs": [
    {
     "name": "stdout",
     "output_type": "stream",
     "text": [
      "['admin', 'config', 'local', 'sixtwoone']\n"
     ]
    }
   ],
   "source": [
    "db = client.get_database('sixtwoone')\n",
    "print(client.list_database_names())"
   ]
  },
  {
   "cell_type": "code",
   "execution_count": 7,
   "metadata": {},
   "outputs": [],
   "source": [
    "posts = db.get_collection('posts')"
   ]
  },
  {
   "cell_type": "code",
   "execution_count": 8,
   "metadata": {},
   "outputs": [
    {
     "data": {
      "text/plain": [
       "7312"
      ]
     },
     "execution_count": 8,
     "metadata": {},
     "output_type": "execute_result"
    }
   ],
   "source": [
    "posts.count_documents({\"copyright\": {\"$in\" : [\"beastars\"]}})"
   ]
  },
  {
   "cell_type": "code",
   "execution_count": 9,
   "metadata": {},
   "outputs": [],
   "source": [
    "beastars_posts = posts.find({\"copyright\": {\"$in\" : [\"beastars\"]}}, { \"created_at\": 1, \"rating\": 1, \"fav_count\": 1, \"character\": 1, \"species\": 1, \"general\": 1, \"artist\": 1 })"
   ]
  },
  {
   "cell_type": "code",
   "execution_count": 10,
   "metadata": {},
   "outputs": [],
   "source": [
    "import pandas as pd\n",
    "list_cur = list(beastars_posts)\n",
    "df = pd.DataFrame(list_cur)"
   ]
  },
  {
   "cell_type": "code",
   "execution_count": 11,
   "metadata": {},
   "outputs": [],
   "source": [
    "df['created_at'] = pd.to_datetime(df['created_at'], utc=True)"
   ]
  },
  {
   "cell_type": "code",
   "execution_count": 12,
   "metadata": {
    "scrolled": true
   },
   "outputs": [
    {
     "data": {
      "text/html": [
       "<div>\n",
       "<style scoped>\n",
       "    .dataframe tbody tr th:only-of-type {\n",
       "        vertical-align: middle;\n",
       "    }\n",
       "\n",
       "    .dataframe tbody tr th {\n",
       "        vertical-align: top;\n",
       "    }\n",
       "\n",
       "    .dataframe thead th {\n",
       "        text-align: right;\n",
       "    }\n",
       "</style>\n",
       "<table border=\"1\" class=\"dataframe\">\n",
       "  <thead>\n",
       "    <tr style=\"text-align: right;\">\n",
       "      <th></th>\n",
       "      <th>_id</th>\n",
       "      <th>created_at</th>\n",
       "      <th>rating</th>\n",
       "      <th>fav_count</th>\n",
       "      <th>general</th>\n",
       "      <th>species</th>\n",
       "      <th>character</th>\n",
       "      <th>artist</th>\n",
       "    </tr>\n",
       "  </thead>\n",
       "  <tbody>\n",
       "    <tr>\n",
       "      <th>0</th>\n",
       "      <td>1243630</td>\n",
       "      <td>2017-06-15 05:20:46.790000+00:00</td>\n",
       "      <td>s</td>\n",
       "      <td>37</td>\n",
       "      <td>[anthro, bag, clothed, clothing, looking_down,...</td>\n",
       "      <td>[canid, canine, canis, mammal, wolf]</td>\n",
       "      <td>[legoshi_(beastars)]</td>\n",
       "      <td>[bluedouble]</td>\n",
       "    </tr>\n",
       "    <tr>\n",
       "      <th>1</th>\n",
       "      <td>1412509</td>\n",
       "      <td>2017-12-29 21:17:06.606000+00:00</td>\n",
       "      <td>s</td>\n",
       "      <td>134</td>\n",
       "      <td>[anthro, blue_background, disembodied_hand, du...</td>\n",
       "      <td>[canid, canine, canis, human, mammal, primate,...</td>\n",
       "      <td>[legoshi_(beastars)]</td>\n",
       "      <td>[nekopunch_ahya]</td>\n",
       "    </tr>\n",
       "    <tr>\n",
       "      <th>2</th>\n",
       "      <td>1434864</td>\n",
       "      <td>2018-01-23 13:01:42.078000+00:00</td>\n",
       "      <td>s</td>\n",
       "      <td>46</td>\n",
       "      <td>[anthro, cheek_tuft, claws, clothed, clothing,...</td>\n",
       "      <td>[canid, canine, canis, mammal, wolf]</td>\n",
       "      <td>[legoshi_(beastars)]</td>\n",
       "      <td>[mucknagabe]</td>\n",
       "    </tr>\n",
       "    <tr>\n",
       "      <th>4</th>\n",
       "      <td>1475709</td>\n",
       "      <td>2018-03-06 22:59:18.893000+00:00</td>\n",
       "      <td>q</td>\n",
       "      <td>306</td>\n",
       "      <td>[ambiguous_gender, anthro, clothed, clothing, ...</td>\n",
       "      <td>[canid, canine, canis, mammal, reptile, scalie...</td>\n",
       "      <td>[legoshi_(beastars), rokume_(beastars)]</td>\n",
       "      <td>[ayvore]</td>\n",
       "    </tr>\n",
       "    <tr>\n",
       "      <th>3</th>\n",
       "      <td>1475710</td>\n",
       "      <td>2018-03-06 23:00:04.035000+00:00</td>\n",
       "      <td>e</td>\n",
       "      <td>224</td>\n",
       "      <td>[anthro, digestion, disolve, erection, genital...</td>\n",
       "      <td>[canid, canine, canis, mammal, wolf]</td>\n",
       "      <td>[legoshi_(beastars)]</td>\n",
       "      <td>[ayvore]</td>\n",
       "    </tr>\n",
       "  </tbody>\n",
       "</table>\n",
       "</div>"
      ],
      "text/plain": [
       "       _id                       created_at rating  fav_count  \\\n",
       "0  1243630 2017-06-15 05:20:46.790000+00:00      s         37   \n",
       "1  1412509 2017-12-29 21:17:06.606000+00:00      s        134   \n",
       "2  1434864 2018-01-23 13:01:42.078000+00:00      s         46   \n",
       "4  1475709 2018-03-06 22:59:18.893000+00:00      q        306   \n",
       "3  1475710 2018-03-06 23:00:04.035000+00:00      e        224   \n",
       "\n",
       "                                             general  \\\n",
       "0  [anthro, bag, clothed, clothing, looking_down,...   \n",
       "1  [anthro, blue_background, disembodied_hand, du...   \n",
       "2  [anthro, cheek_tuft, claws, clothed, clothing,...   \n",
       "4  [ambiguous_gender, anthro, clothed, clothing, ...   \n",
       "3  [anthro, digestion, disolve, erection, genital...   \n",
       "\n",
       "                                             species  \\\n",
       "0               [canid, canine, canis, mammal, wolf]   \n",
       "1  [canid, canine, canis, human, mammal, primate,...   \n",
       "2               [canid, canine, canis, mammal, wolf]   \n",
       "4  [canid, canine, canis, mammal, reptile, scalie...   \n",
       "3               [canid, canine, canis, mammal, wolf]   \n",
       "\n",
       "                                 character            artist  \n",
       "0                     [legoshi_(beastars)]      [bluedouble]  \n",
       "1                     [legoshi_(beastars)]  [nekopunch_ahya]  \n",
       "2                     [legoshi_(beastars)]      [mucknagabe]  \n",
       "4  [legoshi_(beastars), rokume_(beastars)]          [ayvore]  \n",
       "3                     [legoshi_(beastars)]          [ayvore]  "
      ]
     },
     "execution_count": 12,
     "metadata": {},
     "output_type": "execute_result"
    }
   ],
   "source": [
    "df.sort_values(by='created_at', ascending=True).head()"
   ]
  },
  {
   "cell_type": "code",
   "execution_count": 13,
   "metadata": {
    "scrolled": false
   },
   "outputs": [
    {
     "data": {
      "text/plain": [
       "<AxesSubplot:xlabel='created_at', ylabel='Count'>"
      ]
     },
     "execution_count": 13,
     "metadata": {},
     "output_type": "execute_result"
    },
    {
     "data": {
      "image/png": "[encoded data removed]",
      "text/plain": [
       "<Figure size 1440x720 with 1 Axes>"
      ]
     },
     "metadata": {},
     "output_type": "display_data"
    }
   ],
   "source": [
    "import matplotlib as mpl\n",
    "import seaborn as sns\n",
    "sns.set(rc={\"figure.figsize\":(20,10)})\n",
    "bins = pd.date_range(start = df['created_at'].min(),end = df['created_at'].max(),freq='1M')\n",
    "sns.histplot(df, x='created_at', hue=\"rating\", multiple=\"stack\", bins=mpl.dates.date2num(bins))"
   ]
  },
  {
   "cell_type": "code",
   "execution_count": 14,
   "metadata": {},
   "outputs": [],
   "source": [
    "df.to_json('./beastars.json', orient='records')"
   ]
  },
  {
   "cell_type": "code",
   "execution_count": null,
   "metadata": {},
   "outputs": [],
   "source": []
  }
 ],
 "metadata": {
  "interpreter": {
   "hash": "3e98ef211b3b8f4f53e55b9d164c33ed272af5814791c4b21e20c4cdf407cec5"
  },
  "kernelspec": {
   "display_name": "Python 3 (ipykernel)",
   "language": "python",
   "name": "python3"
  },
  "language_info": {
   "codemirror_mode": {
    "name": "ipython",
    "version": 3
   },
   "file_extension": ".py",
   "mimetype": "text/x-python",
   "name": "python",
   "nbconvert_exporter": "python",
   "pygments_lexer": "ipython3",
   "version": "3.9.7"
  }
 },
 "nbformat": 4,
 "nbformat_minor": 2
}
